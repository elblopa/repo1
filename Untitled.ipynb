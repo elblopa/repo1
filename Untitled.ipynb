{
 "cells": [
  {
   "cell_type": "code",
   "execution_count": 2,
   "metadata": {},
   "outputs": [
    {
     "name": "stdout",
     "output_type": "stream",
     "text": [
      "Digite la hora: 2\n",
      "Digite el minuto: 30\n",
      "Digite el segundo: 20\n",
      "Los segundos son:  9020\n"
     ]
    }
   ],
   "source": [
    "H = int(input(\"Digite la hora: \"))\n",
    "M = int(input(\"Digite el minuto: \"))\n",
    "S = int(input(\"Digite el segundo: \"))\n",
    "\n",
    "hora = H*3600 + M*60 + S\n",
    "\n",
    "print(\"Los segundos son: \", hora)"
   ]
  },
  {
   "cell_type": "code",
   "execution_count": 3,
   "metadata": {},
   "outputs": [
    {
     "data": {
      "text/plain": [
       "9020"
      ]
     },
     "execution_count": 3,
     "metadata": {},
     "output_type": "execute_result"
    }
   ],
   "source": [
    "2*3600 + 30*60 + 20"
   ]
  }
 ],
 "metadata": {
  "kernelspec": {
   "display_name": "Python 3",
   "language": "python",
   "name": "python3"
  },
  "language_info": {
   "codemirror_mode": {
    "name": "ipython",
    "version": 3
   },
   "file_extension": ".py",
   "mimetype": "text/x-python",
   "name": "python",
   "nbconvert_exporter": "python",
   "pygments_lexer": "ipython3",
   "version": "3.6.4"
  }
 },
 "nbformat": 4,
 "nbformat_minor": 2
}
